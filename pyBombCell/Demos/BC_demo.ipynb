{
 "cells": [
  {
   "cell_type": "markdown",
   "metadata": {},
   "source": [
    "## Bombcell getting started script\n",
    "\n",
    "to do:\n",
    "- JF: add MATLAB changes (spikeGLX meta)\n",
    "- JF: generate output plots\n",
    "- move all the squeeze() and astype() to the loading function\n",
    "- what are the errors / warnings in the main function?\n",
    "- how to load output, check and modify param, then re-generate + save\n",
    "- double check no hard-coding\n",
    "- double check all python names are copies of MATLAB with snake_case\n",
    "- check comments & function headers"
   ]
  },
  {
   "cell_type": "markdown",
   "metadata": {},
   "source": [
    "### Load in python packages "
   ]
  },
  {
   "cell_type": "code",
   "execution_count": 2,
   "metadata": {},
   "outputs": [],
   "source": [
    "import os\n",
    "import sys\n",
    "from pathlib import Path\n",
    "\n",
    "import numpy as np\n",
    "import pandas as pd\n",
    "import matplotlib.pyplot as plt\n",
    "\n",
    "# Add bombcell to Python path if NOT installed with pip\n",
    "demo_dir = Path(os.getcwd())\n",
    "pyBombCell_dir = demo_dir.parent\n",
    "sys.path.append(str(pyBombCell_dir))"
   ]
  },
  {
   "cell_type": "code",
   "execution_count": 3,
   "metadata": {},
   "outputs": [
    {
     "name": "stderr",
     "output_type": "stream",
     "text": [
      "/home/julie/.local/lib/python3.8/site-packages/tqdm/auto.py:21: TqdmWarning: IProgress not found. Please update jupyter and ipywidgets. See https://ipywidgets.readthedocs.io/en/stable/user_install.html\n",
      "  from .autonotebook import tqdm as notebook_tqdm\n",
      "/home/julie/.local/lib/python3.8/site-packages/scipy/__init__.py:146: UserWarning: A NumPy version >=1.16.5 and <1.23.0 is required for this version of SciPy (detected version 1.24.4\n",
      "  warnings.warn(f\"A NumPy version >={np_minversion} and <{np_maxversion}\"\n"
     ]
    }
   ],
   "source": [
    "%load_ext autoreload\n",
    "%autoreload 2\n",
    "\n",
    "import bombcell as bc"
   ]
  },
  {
   "cell_type": "markdown",
   "metadata": {},
   "source": [
    "### Define data paths"
   ]
  },
  {
   "cell_type": "markdown",
   "metadata": {},
   "source": [
    "By default: path to BombCell's toy dataset"
   ]
  },
  {
   "cell_type": "code",
   "execution_count": 108,
   "metadata": {},
   "outputs": [],
   "source": [
    "ks_dir = demo_dir / \"toy_data\"  # Replace with your kilosort directory\n",
    "raw_dir = (\n",
    "    None  # Leave 'None' if no raw data\n",
    ")\n",
    "save_path = \"~/Downloads/quality_metrics_JF093\"  # Replace with the directory in which you want to save bombcell's output\n",
    "\n",
    "ks_dir = \"/home/netshare/znas-lab/Share/JulieF/for_sam/JF093_2023-03-06_site1/kilosort2/site1\"\n",
    "raw_file = \"/home/netshare/znas-lab/Share/JulieF/for_sam/JF093_2023-03-06_site1/site1/2023-03-06_JF093_1_g0_t0_bc_decompressed.imec0.ap.bin\"\n",
    "\n",
    "# If a raw data directory with a meta folder is not given,\n",
    "# please input the gain manually\n",
    "gain_to_uV = np.nan"
   ]
  },
  {
   "cell_type": "markdown",
   "metadata": {},
   "source": [
    "### Get parameters"
   ]
  },
  {
   "cell_type": "code",
   "execution_count": 137,
   "metadata": {},
   "outputs": [
    {
     "name": "stdout",
     "output_type": "stream",
     "text": [
      "Using found decompressed data 2023-03-06_JF093_1_g0_t0_bc_decompressed.imec0.ap.bin\n"
     ]
    }
   ],
   "source": [
    "# ephys_raw_data and gain_to_uv will be None if no raw_dir given\n",
    "ephys_raw_data, meta_path, gain_to_uV = bc.manage_if_raw_data(raw_file, gain_to_uV)\n",
    "\n",
    "param = bc.get_default_parameters(ks_dir, raw_file=raw_file, ephys_meta_dir=meta_path)\n",
    "param[\"compute_distance_metrics\"] = 0\n",
    "param[\"compute_drift\"] = 0\n",
    "param[\"compute_time_chunks\"] = 0"
   ]
  },
  {
   "cell_type": "markdown",
   "metadata": {},
   "source": [
    "### Run bombcell, get unit types and save results \n",
    "To save results as a parquet either PyArrow or FastParquet needs to be installed"
   ]
  },
  {
   "cell_type": "code",
   "execution_count": null,
   "metadata": {},
   "outputs": [],
   "source": [
    "import warnings\n",
    "warnings.filterwarnings(\"error\") \n",
    "\n",
    "(\n",
    "    quality_metrics,\n",
    "    param,\n",
    "    unit_type,\n",
    "    unit_type_string,\n",
    ") = bc.run_bombcell(\n",
    "    ks_dir, raw_dir, save_path, param\n",
    ")"
   ]
  },
  {
   "cell_type": "code",
   "execution_count": 139,
   "metadata": {},
   "outputs": [
    {
     "data": {
      "text/plain": [
       "array(['NOISE', 'NOISE', 'NOISE', 'NOISE', 'NOISE', 'NOISE', 'NOISE',\n",
       "       'NOISE', 'NOISE', 'NOISE', 'NOISE', 'NOISE', 'NOISE', 'NOISE',\n",
       "       'NOISE', 'NOISE', 'NOISE', 'NOISE', 'NOISE', 'NOISE', 'NOISE',\n",
       "       'NOISE', 'NOISE', 'NOISE', 'NOISE', 'NOISE', 'NOISE', 'NOISE',\n",
       "       'NOISE', 'NOISE', 'NOISE', 'NOISE', 'NOISE', 'NOISE', 'NOISE',\n",
       "       'NOISE', 'NOISE', 'NOISE', 'NOISE', 'NOISE', 'NOISE', 'NOISE',\n",
       "       'NOISE', 'NOISE', 'NOISE', 'NOISE', 'NOISE', 'NOISE', 'NOISE',\n",
       "       'NOISE', 'NOISE', 'NOISE', 'NOISE', 'NOISE', 'NOISE', 'NOISE',\n",
       "       'NOISE', 'NOISE', 'NOISE', 'NOISE', 'NOISE', 'NOISE', 'NOISE',\n",
       "       'NOISE', 'NOISE', 'NOISE', 'NOISE', 'NOISE', 'NOISE', 'NOISE',\n",
       "       'NOISE', 'NOISE', 'NOISE', 'NOISE', 'NOISE', 'NOISE', 'NOISE',\n",
       "       'NOISE', 'NOISE', 'NOISE', 'NOISE', 'NOISE', 'NOISE', 'NOISE',\n",
       "       'NOISE', 'NOISE', 'NOISE', 'NOISE', 'NOISE', 'NOISE', 'NOISE',\n",
       "       'NOISE', 'NOISE', 'NOISE', 'NOISE', 'NOISE', 'NOISE', 'NOISE',\n",
       "       'NOISE', 'NOISE', 'NOISE', 'NOISE', 'NOISE', 'NOISE', 'NOISE',\n",
       "       'NOISE', 'NOISE', 'NOISE', 'NOISE', 'NOISE', 'NOISE', 'NOISE',\n",
       "       'NOISE', 'NOISE', 'NOISE', 'NOISE', 'NOISE', 'NOISE', 'NOISE',\n",
       "       'NOISE', 'NOISE', 'NOISE', 'NOISE', 'NOISE', 'NOISE', 'NOISE',\n",
       "       'NOISE', 'NOISE', 'NOISE', 'NOISE', 'NOISE', 'NOISE', 'NOISE',\n",
       "       'NOISE', 'NOISE', 'NOISE', 'NOISE', 'NOISE', 'NOISE', 'NOISE',\n",
       "       'NOISE', 'NOISE', 'NOISE', 'NOISE', 'NOISE', 'NOISE', 'NOISE',\n",
       "       'NOISE', 'NOISE', 'NOISE', 'NOISE', 'NOISE', 'NOISE', 'NOISE',\n",
       "       'NOISE', 'NOISE', 'NOISE', 'NOISE', 'NOISE', 'NOISE', 'NOISE',\n",
       "       'NOISE', 'NOISE', 'NOISE', 'NOISE', 'NOISE', 'NOISE', 'NOISE',\n",
       "       'NOISE', 'NOISE', 'NOISE', 'NOISE', 'NOISE', 'NOISE', 'NOISE',\n",
       "       'NOISE', 'NOISE', 'NOISE', 'NOISE', 'NOISE', 'NOISE', 'NOISE',\n",
       "       'NOISE', 'NOISE', 'NOISE', 'NOISE', 'NOISE', 'NOISE', 'NOISE',\n",
       "       'NOISE', 'NOISE', 'NOISE', 'NOISE', 'NOISE', 'NOISE', 'NOISE',\n",
       "       'NOISE', 'NOISE', 'NOISE', 'NOISE', 'NOISE', 'NOISE', 'NOISE',\n",
       "       'NOISE', 'NOISE', 'NOISE', 'NOISE', 'NOISE', 'NOISE', 'NOISE',\n",
       "       'NOISE', 'NOISE', 'NOISE', 'NOISE', 'NOISE', 'NOISE', 'NOISE',\n",
       "       'NOISE', 'NOISE', 'NOISE', 'NOISE', 'NOISE', 'NOISE', 'NOISE',\n",
       "       'NOISE', 'NOISE', 'NOISE', 'NOISE', 'NOISE', 'NOISE', 'NOISE',\n",
       "       'NOISE', 'NOISE', 'NOISE', 'NOISE', 'NOISE', 'NOISE', 'NOISE',\n",
       "       'NOISE', 'NOISE', 'NOISE', 'NOISE', 'NOISE', 'NOISE', 'NOISE',\n",
       "       'NOISE', 'NOISE', 'NOISE', 'NOISE', 'NOISE', 'NOISE', 'NOISE',\n",
       "       'NOISE', 'NOISE', 'NOISE', 'NOISE', 'NOISE', 'NOISE', 'NOISE',\n",
       "       'NOISE', 'NOISE', 'NOISE', 'NOISE', 'NOISE', 'NOISE', 'NOISE',\n",
       "       'NOISE', 'NOISE', 'NOISE', 'NOISE', 'NOISE', 'NOISE', 'NOISE',\n",
       "       'NOISE', 'NOISE', 'NOISE', 'NOISE', 'NOISE', 'NOISE', 'NOISE',\n",
       "       'NOISE', 'NOISE', 'NOISE', 'NOISE', 'NOISE', 'NOISE', 'NOISE',\n",
       "       'NOISE', 'NOISE', 'NOISE', 'NOISE', 'NOISE', 'NOISE', 'NOISE',\n",
       "       'NOISE', 'NOISE', 'NOISE', 'NOISE', 'NOISE', 'NOISE', 'NOISE',\n",
       "       'NOISE', 'NOISE', 'NOISE', 'NOISE', 'NOISE', 'NOISE', 'NOISE',\n",
       "       'NOISE', 'NOISE', 'NOISE', 'NOISE', 'NOISE', 'NOISE', 'NOISE',\n",
       "       'NOISE', 'NOISE', 'NOISE', 'NOISE', 'NOISE', 'NOISE', 'NOISE',\n",
       "       'NOISE', 'NOISE', 'NOISE', 'NOISE', 'NOISE', 'NOISE', 'NOISE',\n",
       "       'NOISE', 'NOISE', 'NOISE', 'NOISE', 'NOISE', 'NOISE', 'NOISE',\n",
       "       'NOISE', 'NOISE', 'NOISE', 'NOISE', 'NOISE', 'NOISE', 'NOISE',\n",
       "       'NOISE', 'NOISE', 'NOISE', 'NOISE', 'NOISE', 'NOISE', 'NOISE',\n",
       "       'NOISE', 'NOISE', 'NOISE', 'NOISE', 'NOISE', 'NOISE', 'NOISE',\n",
       "       'NOISE', 'NOISE', 'NOISE', 'NOISE', 'NOISE', 'NOISE', 'NOISE',\n",
       "       'NOISE', 'NOISE', 'NOISE', 'NOISE', 'NOISE', 'NOISE', 'NOISE',\n",
       "       'NOISE', 'NOISE', 'NOISE', 'NOISE', 'NOISE', 'NOISE', 'NOISE',\n",
       "       'NOISE', 'NOISE', 'NOISE', 'NOISE', 'NOISE', 'NOISE', 'NOISE',\n",
       "       'NOISE', 'NOISE', 'NOISE', 'NOISE', 'NOISE', 'NOISE', 'NOISE',\n",
       "       'NOISE', 'NOISE', 'NOISE', 'NOISE', 'NOISE', 'NOISE', 'NOISE',\n",
       "       'NOISE', 'NOISE', 'NOISE', 'NOISE', 'NOISE', 'NOISE', 'NOISE',\n",
       "       'NOISE', 'NOISE', 'NOISE', 'NOISE', 'NOISE', 'NOISE', 'NOISE',\n",
       "       'NOISE', 'NOISE', 'NOISE', 'NOISE', 'NOISE', 'NOISE', 'NOISE',\n",
       "       'NOISE', 'NOISE', 'NOISE', 'NOISE', 'NOISE', 'NOISE', 'NOISE',\n",
       "       'NOISE', 'NOISE', 'NOISE', 'NOISE', 'NOISE', 'NOISE', 'NOISE',\n",
       "       'NOISE', 'NOISE', 'NOISE', 'NOISE', 'NOISE', 'NOISE', 'NOISE',\n",
       "       'NOISE', 'NOISE', 'NOISE', 'NOISE', 'NOISE', 'NOISE', 'NOISE',\n",
       "       'NOISE', 'NOISE', 'NOISE', 'NOISE', 'NOISE', 'NOISE', 'NOISE',\n",
       "       'NOISE', 'NOISE', 'NOISE', 'NOISE', 'NOISE', 'NOISE', 'NOISE',\n",
       "       'NOISE', 'NOISE', 'NOISE', 'NOISE', 'NOISE', 'NOISE', 'NOISE',\n",
       "       'NOISE', 'NOISE', 'NOISE', 'NOISE', 'NOISE', 'NOISE', 'NOISE',\n",
       "       'NOISE', 'NOISE', 'NOISE', 'NOISE', 'NOISE', 'NOISE', 'NOISE',\n",
       "       'NOISE', 'NOISE', 'NOISE'], dtype=object)"
      ]
     },
     "execution_count": 139,
     "metadata": {},
     "output_type": "execute_result"
    }
   ],
   "source": [
    "unit_type_string"
   ]
  },
  {
   "cell_type": "markdown",
   "metadata": {},
   "source": [
    "(optional) look at a table which shows why each unit fails"
   ]
  },
  {
   "cell_type": "code",
   "execution_count": null,
   "metadata": {},
   "outputs": [
    {
     "data": {
      "text/plain": [
       "{'phy_cluster_id': array([ 0.,  1.,  2.,  3.,  4.,  5.,  6.,  7.,  8.,  9., 10., 11., 12.,\n",
       "        13., 14.]),\n",
       " 'cluster_id': array([ 0.,  1.,  2.,  3.,  4.,  5.,  6.,  7.,  8.,  9., 10., 11., 12.,\n",
       "        13., 14.]),\n",
       " 'use_these_times_start': array([3.25366667e-01, 3.25366667e-01, 2.16032537e+03, 2.88032537e+03,\n",
       "        3.25366667e-01, 2.52032537e+03, 7.20325367e+02, 1.80032537e+03,\n",
       "        7.20325367e+02, 3.60325367e+02, 1.08032537e+03, 3.25366667e-01,\n",
       "        2.16032537e+03, 3.25366667e-01, 1.08032537e+03]),\n",
       " 'use_these_times_stop': array([1800.32536667, 4320.32536667, 3960.32536667, 3600.32536667,\n",
       "        1440.32536667, 3960.32536667, 3960.32536667, 2880.32536667,\n",
       "        2520.32536667,  720.32536667, 2520.32536667, 3960.32536667,\n",
       "        3240.32536667, 3960.32536667, 3240.32536667]),\n",
       " 'RPV_use_tauR_est': array([0., 0., 0., 0., 0., 0., 0., 0., 0., 0., 0., 0., 0., 0., 0.]),\n",
       " 'percent_missing_gaussian': array([41.29685164,  1.        ,  1.        ,  1.        ,  6.7279165 ,\n",
       "        98.50014978,  0.47436796,  1.        ,  4.17886046,  1.        ,\n",
       "         0.18821485,  0.09993185,  1.        , 26.78766516,  7.0156972 ]),\n",
       " 'percent_missing_symmetric': array([25.01597736, 31.33998429, 28.71072589,  0.        ,  0.        ,\n",
       "        43.84615385,  4.86185863, 35.71428571, 30.18867925,  0.        ,\n",
       "         0.        ,  0.        , 31.45973154, 35.62005277, 19.14212548]),\n",
       " 'fraction_RPVs': array([1.        , 1.        , 0.40054474, 0.        , 1.        ,\n",
       "        0.        , 0.03129885, 0.        , 1.        , 0.        ,\n",
       "        0.        , 0.        , 0.48404272, 0.        , 0.3129107 ]),\n",
       " 'max_drift_estimate': array([24.92123888, 42.41044376, 16.29887334, 36.48786579, 30.03977586,\n",
       "        30.12158133, 20.71606657, 35.13012072, 42.03919609, 12.17112523,\n",
       "        28.22432665, 39.47638862, 10.44356612, 42.93495131, 29.66952403]),\n",
       " 'cumulatve_drift_estimate': array([ 85.08698846, 368.42087489, 144.95438925, 129.30883636,\n",
       "         90.8149531 , 157.72820344,  65.95173968, 101.65326395,\n",
       "        266.34646016,  22.67790003,  46.54357357, 331.63014982,\n",
       "         44.84559729, 296.87352668, 172.74737979]),\n",
       " 'n_spikes': array([8.2130e+03, 2.3606e+04, 1.3160e+03, 9.4000e+01, 1.1110e+03,\n",
       "        1.4600e+02, 1.0606e+04, 2.7000e+01, 1.4800e+02, 1.0000e+01,\n",
       "        8.6000e+01, 1.3300e+03, 1.6340e+03, 7.3200e+02, 2.5260e+03]),\n",
       " 'presence_ratio': array([0.86206897, 1.        , 0.96551724, 0.90909091, 0.7826087 ,\n",
       "        0.95652174, 0.9245283 , 0.52941176, 0.89655172, 0.66666667,\n",
       "        0.69565217, 0.69230769, 1.        , 0.98461538, 0.88571429]),\n",
       " 'n_peaks': array([1., 1., 1., 1., 2., 1., 1., 1., 1., 1., 2., 2., 1., 1., 1.]),\n",
       " 'n_troughs': array([1., 2., 1., 1., 1., 1., 1., 1., 1., 1., 1., 1., 1., 1., 1.]),\n",
       " 'is_somatic': array([1., 0., 1., 1., 1., 1., 1., 1., 1., 1., 0., 0., 1., 1., 1.]),\n",
       " 'waveform_duration_peak_trough': array([600.        , 400.        , 733.33333333, 300.        ,\n",
       "        600.        , 666.66666667, 266.66666667, 600.        ,\n",
       "        600.        , 633.33333333, 233.33333333, 700.        ,\n",
       "        300.        , 533.33333333, 633.33333333]),\n",
       " 'waveform_baseline': array([0.02137234, 1.        , 0.04806085, 0.01462503, 0.05727664,\n",
       "        0.04492632, 0.026933  , 0.01937422, 0.04522535, 0.02947707,\n",
       "        0.00941298, 0.01633927, 0.07773504, 0.01744298, 0.00781764]),\n",
       " 'linear_decay': array([-0.01281583, -0.00098302, -0.01051073, -0.01007094, -0.00926222,\n",
       "        -0.01445276, -0.01563846, -0.00738091, -0.01166257, -0.01306737,\n",
       "        -0.01002118, -0.01418271, -0.00596329, -0.01423316, -0.01464648]),\n",
       " 'exp_decay': array([-0.04931537, -0.00085652, -0.02179776, -0.04382024, -0.01815936,\n",
       "        -0.02845173, -0.02085857, -0.01192187, -0.01590508, -0.02166823,\n",
       "        -0.01237842, -0.0200849 , -0.01275497, -0.02687907, -0.0296425 ]),\n",
       " 'trough': array([1.52320063, 0.73326421, 1.17508638, 1.81903875, 1.2105943 ,\n",
       "        1.59021866, 1.21830523, 1.36948466, 1.13774037, 1.01024306,\n",
       "        0.94633526, 1.38902271, 1.31027424, 1.20228076, 1.58643186]),\n",
       " 'main_peak_before': array([ 0.13500147,  0.00103352,  0.05647564, -0.00902238,  0.31144258,\n",
       "         0.07144268,  0.02553247,  0.02653269,  0.05145471,  0.02977901,\n",
       "         0.20443012,  0.87295866, -0.05726654, -0.06238432,  0.01240215]),\n",
       " 'main_peak_after': array([0.47594377, 0.71891648, 0.50749898, 0.42709512, 0.36882487,\n",
       "        0.47284386, 0.59971768, 0.3946501 , 0.34522092, 0.29530957,\n",
       "        0.1634459 , 0.18067254, 0.64808822, 0.33155629, 0.59094989]),\n",
       " 'width_before': array([2.83235974, 0.        , 0.94864518, 1.66979865, 3.3456207 ,\n",
       "        1.07392159, 1.43937506, 1.42415905, 1.59315152, 1.05808391,\n",
       "        2.91899761, 2.19265671, 1.02083123, 1.06468142, 0.        ]),\n",
       " 'trough_width': array([7.31888968, 8.09234894, 8.87560158, 4.0994615 , 8.82280564,\n",
       "        6.19182878, 4.13666306, 4.13943204, 5.89532749, 5.69812832,\n",
       "        2.91782409, 4.09399308, 6.52303007, 4.75492481, 6.44328959]),\n",
       " 'raw_amplitude': array([nan, nan, nan, nan, nan, nan, nan, nan, nan, nan, nan, nan, nan,\n",
       "        nan, nan]),\n",
       " 'isolation_dist': array([24.34409155, 12.679971  , 16.69738908,  5.91565555,  9.48607576,\n",
       "        26.00237698, 63.38658022,  5.39342697, 12.05230785,  3.32499623,\n",
       "        52.31487408, 45.91747011, 12.63742219,  8.1834745 , 28.13589515]),\n",
       " 'l_ratio': array([9.27695595e-02, 8.53659543e-01, 5.57700970e-01, 2.12855257e+01,\n",
       "        3.35915835e+00, 6.69015847e-02, 8.79362233e-05, 7.39285306e+01,\n",
       "        6.57155795e+00, 1.94286917e+02, 8.88684582e-06, 1.31554270e-04,\n",
       "        1.01214761e+00, 1.45080813e+01, 4.60264673e-02]),\n",
       " 'silhouette_score': array([nan, nan, nan, nan, nan, nan, nan, nan, nan, nan, nan, nan, nan,\n",
       "        nan, nan]),\n",
       " 'signal_to_noise_ratio': array([nan, nan, nan, nan, nan, nan, nan, nan, nan, nan, nan, nan, nan,\n",
       "        nan, nan]),\n",
       " 'max_channels': array([ 0,  0,  2,  2,  4,  6,  6,  5,  9, 11, 12, 14, 12, 16, 17]),\n",
       " 'is_somatic_new': array([1., 0., 1., 1., 1., 1., 1., 1., 1., 1., 0., 0., 1., 1., 1.])}"
      ]
     },
     "execution_count": 18,
     "metadata": {},
     "output_type": "execute_result"
    }
   ],
   "source": [
    "qm_table = bc.make_qm_table(\n",
    "    quality_metrics, param, unique_templates, unit_type_string\n",
    ")  # JF: does not include distance, drift metrics, amplitude, ... ? \n",
    "   #  also replace \"somatic\" with the 2 quality metrics for that.\n",
    "   #  + use more sensible table headers (e.g. \"Peaks\" should be \"n_Peaks\", \"Good unit\" should be \"unit_type\")\n",
    "qm_table\n",
    "\n"
   ]
  },
  {
   "cell_type": "code",
   "execution_count": null,
   "metadata": {},
   "outputs": [],
   "source": []
  }
 ],
 "metadata": {
  "kernelspec": {
   "display_name": "Python 3",
   "language": "python",
   "name": "python3"
  },
  "language_info": {
   "codemirror_mode": {
    "name": "ipython",
    "version": 3
   },
   "file_extension": ".py",
   "mimetype": "text/x-python",
   "name": "python",
   "nbconvert_exporter": "python",
   "pygments_lexer": "ipython3",
   "version": "3.8.10"
  }
 },
 "nbformat": 4,
 "nbformat_minor": 2
}
